{
 "cells": [
  {
   "cell_type": "code",
   "execution_count": 59,
   "id": "3d2f3546",
   "metadata": {},
   "outputs": [],
   "source": [
    "import json\n",
    "import ast\n",
    "import os\n",
    "import collections\n",
    "import itertools\n",
    "import pandas as pd\n",
    "from operator import itemgetter\n",
    "from itertools import groupby\n",
    "import random\n",
    "import numpy as np"
   ]
  },
  {
   "cell_type": "code",
   "execution_count": 19,
   "id": "8475639a",
   "metadata": {},
   "outputs": [
    {
     "data": {
      "text/plain": [
       "'/Users/garima/AISECKG-QA-Dataset/Chat-GPT/dataPreprocessCode'"
      ]
     },
     "execution_count": 19,
     "metadata": {},
     "output_type": "execute_result"
    }
   ],
   "source": [
    "dir=os.getcwd()\n",
    "dir"
   ]
  },
  {
   "cell_type": "code",
   "execution_count": 83,
   "id": "5645cd97",
   "metadata": {},
   "outputs": [],
   "source": [
    "filename = '/Users/garima/AISECKG-QA-Dataset/Chat-GPT/datadump/chat-gpt responses'"
   ]
  },
  {
   "cell_type": "code",
   "execution_count": 84,
   "id": "07435ada",
   "metadata": {},
   "outputs": [],
   "source": [
    "with open(filename, 'r') as fh:\n",
    "    inputtxt= fh.read()\n",
    "    #print(inputtxt)"
   ]
  },
  {
   "cell_type": "code",
   "execution_count": 86,
   "id": "e95f0655",
   "metadata": {},
   "outputs": [
    {
     "name": "stdout",
     "output_type": "stream",
     "text": [
      "106\n"
     ]
    }
   ],
   "source": [
    "lines = inputtxt.split('\\n')\n",
    "res=[]\n",
    "dic={}\n",
    "\n",
    "context=None\n",
    "prompt=None\n",
    "for line in lines:\n",
    "        line = line.strip()\n",
    "        if(line.startswith('Tell') or line.startswith('tell')):\n",
    "                 prompt=line\n",
    "                 dic[\"Prompt\"]=prompt\n",
    "                 #print(dic)\n",
    "                 res.append(dic)\n",
    "                 dic={} \n",
    "print(len(res))\n",
    "out_file = open(\"prompt.json\", \"w\")\n",
    "json.dump(res, out_file, indent=4)\n",
    "out_file.close()"
   ]
  },
  {
   "cell_type": "code",
   "execution_count": 13,
   "id": "654212a9",
   "metadata": {},
   "outputs": [],
   "source": [
    "filename = '/Users/garima/AISECKG-QA-Dataset/Chat-GPT/datadump/Prompt-Context.txt'"
   ]
  },
  {
   "cell_type": "code",
   "execution_count": 55,
   "id": "af451307",
   "metadata": {},
   "outputs": [],
   "source": [
    "with open(filename, 'r') as fh:\n",
    "    inputtxt= fh.read()\n",
    "    #print(inputtxt)"
   ]
  },
  {
   "cell_type": "code",
   "execution_count": null,
   "id": "381e6ea7",
   "metadata": {},
   "outputs": [],
   "source": [
    "lines = inputtxt.split('\\n')\n",
    "res=[]\n",
    "dic={}\n",
    "\n",
    "context=None\n",
    "prompt=None\n",
    "for line in lines:\n",
    "        line = line.strip()\n",
    "        context=line\n",
    "        dic[\"Context\"]=context\n",
    "        #print(dic)\n",
    "        res.append(dic)\n",
    "        dic={} \n",
    "print(len(res))\n",
    "out_file = open(\"context.json\", \"w\")\n",
    "json.dump(res, out_file, indent=4)\n",
    "out_file.close()"
   ]
  },
  {
   "cell_type": "code",
   "execution_count": 20,
   "id": "475b8345",
   "metadata": {},
   "outputs": [
    {
     "data": {
      "text/plain": [
       "'/Users/garima/AISECKG-QA-Dataset/Chat-GPT/dataPreprocessCode'"
      ]
     },
     "execution_count": 20,
     "metadata": {},
     "output_type": "execute_result"
    }
   ],
   "source": [
    "dir"
   ]
  },
  {
   "cell_type": "code",
   "execution_count": 93,
   "id": "971049ea",
   "metadata": {},
   "outputs": [],
   "source": [
    "inputfile = dir + '/context.json'"
   ]
  },
  {
   "cell_type": "code",
   "execution_count": 57,
   "id": "80807390",
   "metadata": {},
   "outputs": [],
   "source": [
    "with open(inputfile, 'r') as fh:\n",
    "    jList= json.load(fh)"
   ]
  },
  {
   "cell_type": "code",
   "execution_count": 60,
   "id": "d85a6e0f",
   "metadata": {},
   "outputs": [],
   "source": [
    "df_context = pd.DataFrame(data=jList) "
   ]
  },
  {
   "cell_type": "code",
   "execution_count": 97,
   "id": "e5e126c8",
   "metadata": {},
   "outputs": [
    {
     "data": {
      "text/html": [
       "<div>\n",
       "<style scoped>\n",
       "    .dataframe tbody tr th:only-of-type {\n",
       "        vertical-align: middle;\n",
       "    }\n",
       "\n",
       "    .dataframe tbody tr th {\n",
       "        vertical-align: top;\n",
       "    }\n",
       "\n",
       "    .dataframe thead th {\n",
       "        text-align: right;\n",
       "    }\n",
       "</style>\n",
       "<table border=\"1\" class=\"dataframe\">\n",
       "  <thead>\n",
       "    <tr style=\"text-align: right;\">\n",
       "      <th></th>\n",
       "      <th>Context</th>\n",
       "    </tr>\n",
       "  </thead>\n",
       "  <tbody>\n",
       "    <tr>\n",
       "      <th>0</th>\n",
       "      <td>A session ID (session identifier) is a unique ...</td>\n",
       "    </tr>\n",
       "    <tr>\n",
       "      <th>1</th>\n",
       "      <td>Cookies are small text files that are stored o...</td>\n",
       "    </tr>\n",
       "    <tr>\n",
       "      <th>2</th>\n",
       "      <td>Packet forwarding is a key function of routers...</td>\n",
       "    </tr>\n",
       "    <tr>\n",
       "      <th>3</th>\n",
       "      <td>An IP address, short for Internet Protocol add...</td>\n",
       "    </tr>\n",
       "    <tr>\n",
       "      <th>4</th>\n",
       "      <td>Severity levels are a way of categorizing the ...</td>\n",
       "    </tr>\n",
       "  </tbody>\n",
       "</table>\n",
       "</div>"
      ],
      "text/plain": [
       "                                             Context\n",
       "0  A session ID (session identifier) is a unique ...\n",
       "1  Cookies are small text files that are stored o...\n",
       "2  Packet forwarding is a key function of routers...\n",
       "3  An IP address, short for Internet Protocol add...\n",
       "4  Severity levels are a way of categorizing the ..."
      ]
     },
     "execution_count": 97,
     "metadata": {},
     "output_type": "execute_result"
    }
   ],
   "source": [
    "df_context.head()"
   ]
  },
  {
   "cell_type": "code",
   "execution_count": 87,
   "id": "3148351a",
   "metadata": {},
   "outputs": [],
   "source": [
    "inputfile = dir + '/prompt.json'"
   ]
  },
  {
   "cell_type": "code",
   "execution_count": 88,
   "id": "4713da55",
   "metadata": {},
   "outputs": [],
   "source": [
    "with open(inputfile, 'r') as fh:\n",
    "    jListp= json.load(fh)"
   ]
  },
  {
   "cell_type": "code",
   "execution_count": 89,
   "id": "02030db0",
   "metadata": {},
   "outputs": [],
   "source": [
    "dfp = pd.DataFrame(data=jListp) "
   ]
  },
  {
   "cell_type": "code",
   "execution_count": 95,
   "id": "2e69af27",
   "metadata": {},
   "outputs": [
    {
     "data": {
      "text/html": [
       "<div>\n",
       "<style scoped>\n",
       "    .dataframe tbody tr th:only-of-type {\n",
       "        vertical-align: middle;\n",
       "    }\n",
       "\n",
       "    .dataframe tbody tr th {\n",
       "        vertical-align: top;\n",
       "    }\n",
       "\n",
       "    .dataframe thead th {\n",
       "        text-align: right;\n",
       "    }\n",
       "</style>\n",
       "<table border=\"1\" class=\"dataframe\">\n",
       "  <thead>\n",
       "    <tr style=\"text-align: right;\">\n",
       "      <th></th>\n",
       "      <th>Prompt</th>\n",
       "    </tr>\n",
       "  </thead>\n",
       "  <tbody>\n",
       "    <tr>\n",
       "      <th>0</th>\n",
       "      <td>Tell me about Session ID</td>\n",
       "    </tr>\n",
       "    <tr>\n",
       "      <th>1</th>\n",
       "      <td>Tell me about Cookies</td>\n",
       "    </tr>\n",
       "    <tr>\n",
       "      <th>2</th>\n",
       "      <td>Tell me about packet forwarding</td>\n",
       "    </tr>\n",
       "    <tr>\n",
       "      <th>3</th>\n",
       "      <td>Tell me about IP Address</td>\n",
       "    </tr>\n",
       "    <tr>\n",
       "      <th>4</th>\n",
       "      <td>Tell me about Severity levels</td>\n",
       "    </tr>\n",
       "    <tr>\n",
       "      <th>...</th>\n",
       "      <td>...</td>\n",
       "    </tr>\n",
       "    <tr>\n",
       "      <th>96</th>\n",
       "      <td>tell me about White Hacker</td>\n",
       "    </tr>\n",
       "    <tr>\n",
       "      <th>97</th>\n",
       "      <td>tell me about Security Engineer</td>\n",
       "    </tr>\n",
       "    <tr>\n",
       "      <th>98</th>\n",
       "      <td>tell me about Ethical Hacker</td>\n",
       "    </tr>\n",
       "    <tr>\n",
       "      <th>99</th>\n",
       "      <td>tell me about teamDefense</td>\n",
       "    </tr>\n",
       "    <tr>\n",
       "      <th>100</th>\n",
       "      <td>tell me about network administrators</td>\n",
       "    </tr>\n",
       "  </tbody>\n",
       "</table>\n",
       "<p>101 rows × 1 columns</p>\n",
       "</div>"
      ],
      "text/plain": [
       "                                   Prompt\n",
       "0                Tell me about Session ID\n",
       "1                   Tell me about Cookies\n",
       "2         Tell me about packet forwarding\n",
       "3                Tell me about IP Address\n",
       "4           Tell me about Severity levels\n",
       "..                                    ...\n",
       "96             tell me about White Hacker\n",
       "97        tell me about Security Engineer\n",
       "98           tell me about Ethical Hacker\n",
       "99              tell me about teamDefense\n",
       "100  tell me about network administrators\n",
       "\n",
       "[101 rows x 1 columns]"
      ]
     },
     "execution_count": 95,
     "metadata": {},
     "output_type": "execute_result"
    }
   ],
   "source": [
    "dfp.head(-5)"
   ]
  },
  {
   "cell_type": "code",
   "execution_count": 94,
   "id": "8c43af50",
   "metadata": {},
   "outputs": [
    {
     "data": {
      "text/plain": [
       "105"
      ]
     },
     "execution_count": 94,
     "metadata": {},
     "output_type": "execute_result"
    }
   ],
   "source": [
    "len(df_context)"
   ]
  },
  {
   "cell_type": "code",
   "execution_count": 73,
   "id": "7d59b07a",
   "metadata": {},
   "outputs": [],
   "source": [
    "df_context['Context'].replace('', np.nan, inplace=True)"
   ]
  },
  {
   "cell_type": "code",
   "execution_count": 76,
   "id": "7fdbaa00",
   "metadata": {},
   "outputs": [],
   "source": [
    "df_context.dropna(subset=['Context'], inplace=True)"
   ]
  },
  {
   "cell_type": "code",
   "execution_count": 80,
   "id": "5035a789",
   "metadata": {},
   "outputs": [],
   "source": [
    "df_context.to_json('Contextf.json', orient='records')"
   ]
  },
  {
   "cell_type": "code",
   "execution_count": 92,
   "id": "325f3939",
   "metadata": {},
   "outputs": [
    {
     "data": {
      "text/plain": [
       "106"
      ]
     },
     "execution_count": 92,
     "metadata": {},
     "output_type": "execute_result"
    }
   ],
   "source": [
    "len(dfp)"
   ]
  },
  {
   "cell_type": "code",
   "execution_count": 98,
   "id": "f7390303",
   "metadata": {},
   "outputs": [],
   "source": [
    "dfp= dfp.join(df_context['Context'])"
   ]
  },
  {
   "cell_type": "code",
   "execution_count": 99,
   "id": "18e0248e",
   "metadata": {},
   "outputs": [
    {
     "data": {
      "text/html": [
       "<div>\n",
       "<style scoped>\n",
       "    .dataframe tbody tr th:only-of-type {\n",
       "        vertical-align: middle;\n",
       "    }\n",
       "\n",
       "    .dataframe tbody tr th {\n",
       "        vertical-align: top;\n",
       "    }\n",
       "\n",
       "    .dataframe thead th {\n",
       "        text-align: right;\n",
       "    }\n",
       "</style>\n",
       "<table border=\"1\" class=\"dataframe\">\n",
       "  <thead>\n",
       "    <tr style=\"text-align: right;\">\n",
       "      <th></th>\n",
       "      <th>Prompt</th>\n",
       "      <th>Context</th>\n",
       "    </tr>\n",
       "  </thead>\n",
       "  <tbody>\n",
       "    <tr>\n",
       "      <th>0</th>\n",
       "      <td>Tell me about Session ID</td>\n",
       "      <td>A session ID (session identifier) is a unique ...</td>\n",
       "    </tr>\n",
       "    <tr>\n",
       "      <th>1</th>\n",
       "      <td>Tell me about Cookies</td>\n",
       "      <td>Cookies are small text files that are stored o...</td>\n",
       "    </tr>\n",
       "    <tr>\n",
       "      <th>2</th>\n",
       "      <td>Tell me about packet forwarding</td>\n",
       "      <td>Packet forwarding is a key function of routers...</td>\n",
       "    </tr>\n",
       "    <tr>\n",
       "      <th>3</th>\n",
       "      <td>Tell me about IP Address</td>\n",
       "      <td>An IP address, short for Internet Protocol add...</td>\n",
       "    </tr>\n",
       "    <tr>\n",
       "      <th>4</th>\n",
       "      <td>Tell me about Severity levels</td>\n",
       "      <td>Severity levels are a way of categorizing the ...</td>\n",
       "    </tr>\n",
       "  </tbody>\n",
       "</table>\n",
       "</div>"
      ],
      "text/plain": [
       "                            Prompt  \\\n",
       "0         Tell me about Session ID   \n",
       "1            Tell me about Cookies   \n",
       "2  Tell me about packet forwarding   \n",
       "3         Tell me about IP Address   \n",
       "4    Tell me about Severity levels   \n",
       "\n",
       "                                             Context  \n",
       "0  A session ID (session identifier) is a unique ...  \n",
       "1  Cookies are small text files that are stored o...  \n",
       "2  Packet forwarding is a key function of routers...  \n",
       "3  An IP address, short for Internet Protocol add...  \n",
       "4  Severity levels are a way of categorizing the ...  "
      ]
     },
     "execution_count": 99,
     "metadata": {},
     "output_type": "execute_result"
    }
   ],
   "source": [
    "dfp.head()"
   ]
  },
  {
   "cell_type": "code",
   "execution_count": 100,
   "id": "008eb32f",
   "metadata": {},
   "outputs": [
    {
     "data": {
      "text/plain": [
       "106"
      ]
     },
     "execution_count": 100,
     "metadata": {},
     "output_type": "execute_result"
    }
   ],
   "source": [
    "len(dfp)"
   ]
  },
  {
   "cell_type": "code",
   "execution_count": 101,
   "id": "bb25a2fc",
   "metadata": {},
   "outputs": [],
   "source": [
    "filez= '/Users/garima/AISECKG-QA-Dataset/Chat-GPT' + '/Jsonfiles/All_data_files/QA_zeropara.json'"
   ]
  },
  {
   "cell_type": "code",
   "execution_count": 102,
   "id": "1e3139ac",
   "metadata": {},
   "outputs": [],
   "source": [
    "with open(filez, 'r') as fh:\n",
    "    jList= json.load(fh)"
   ]
  },
  {
   "cell_type": "code",
   "execution_count": 103,
   "id": "ebd47306",
   "metadata": {},
   "outputs": [],
   "source": [
    "dfz = pd.DataFrame(data=jList) "
   ]
  },
  {
   "cell_type": "code",
   "execution_count": 112,
   "id": "fdda5693",
   "metadata": {},
   "outputs": [
    {
     "data": {
      "text/html": [
       "<div>\n",
       "<style scoped>\n",
       "    .dataframe tbody tr th:only-of-type {\n",
       "        vertical-align: middle;\n",
       "    }\n",
       "\n",
       "    .dataframe tbody tr th {\n",
       "        vertical-align: top;\n",
       "    }\n",
       "\n",
       "    .dataframe thead th {\n",
       "        text-align: right;\n",
       "    }\n",
       "</style>\n",
       "<table border=\"1\" class=\"dataframe\">\n",
       "  <thead>\n",
       "    <tr style=\"text-align: right;\">\n",
       "      <th></th>\n",
       "      <th>QID</th>\n",
       "      <th>Method</th>\n",
       "      <th>Prompt</th>\n",
       "      <th>Entity</th>\n",
       "      <th>Relation</th>\n",
       "      <th>Ontology</th>\n",
       "      <th>Question</th>\n",
       "      <th>Answer</th>\n",
       "    </tr>\n",
       "  </thead>\n",
       "  <tbody>\n",
       "    <tr>\n",
       "      <th>0</th>\n",
       "      <td>C-1</td>\n",
       "      <td>Zero-shot</td>\n",
       "      <td>Tell me about Sniff Mode.Generate 10 questions...</td>\n",
       "      <td>[Sniff Mode]</td>\n",
       "      <td>[]</td>\n",
       "      <td>[]</td>\n",
       "      <td>What is sniff mode?</td>\n",
       "      <td>Sniff mode is a way of capturing network traff...</td>\n",
       "    </tr>\n",
       "    <tr>\n",
       "      <th>1</th>\n",
       "      <td>C-2</td>\n",
       "      <td>Zero-shot</td>\n",
       "      <td>Tell me about Sniff Mode.Generate 10 questions...</td>\n",
       "      <td>[Sniff Mode]</td>\n",
       "      <td>[]</td>\n",
       "      <td>[]</td>\n",
       "      <td>Why is sniff mode useful?</td>\n",
       "      <td>Sniff mode can be useful for network troublesh...</td>\n",
       "    </tr>\n",
       "    <tr>\n",
       "      <th>2</th>\n",
       "      <td>C-3</td>\n",
       "      <td>Zero-shot</td>\n",
       "      <td>Tell me about Sniff Mode.Generate 10 questions...</td>\n",
       "      <td>[Sniff Mode]</td>\n",
       "      <td>[]</td>\n",
       "      <td>[]</td>\n",
       "      <td>What does the term 'sniff' refer to in sniff m...</td>\n",
       "      <td>The term 'sniff' refers to the idea that the n...</td>\n",
       "    </tr>\n",
       "    <tr>\n",
       "      <th>3</th>\n",
       "      <td>C-4</td>\n",
       "      <td>Zero-shot</td>\n",
       "      <td>Tell me about Sniff Mode.Generate 10 questions...</td>\n",
       "      <td>[Sniff Mode]</td>\n",
       "      <td>[]</td>\n",
       "      <td>[]</td>\n",
       "      <td>What is packet capture software?</td>\n",
       "      <td>Packet capture software allows the user to cap...</td>\n",
       "    </tr>\n",
       "    <tr>\n",
       "      <th>4</th>\n",
       "      <td>C-5</td>\n",
       "      <td>Zero-shot</td>\n",
       "      <td>Tell me about Sniff Mode.Generate 10 questions...</td>\n",
       "      <td>[Sniff Mode]</td>\n",
       "      <td>[]</td>\n",
       "      <td>[]</td>\n",
       "      <td>What kind of network traffic is captured in sn...</td>\n",
       "      <td>All network traffic, regardless of its destina...</td>\n",
       "    </tr>\n",
       "  </tbody>\n",
       "</table>\n",
       "</div>"
      ],
      "text/plain": [
       "   QID     Method                                             Prompt  \\\n",
       "0  C-1  Zero-shot  Tell me about Sniff Mode.Generate 10 questions...   \n",
       "1  C-2  Zero-shot  Tell me about Sniff Mode.Generate 10 questions...   \n",
       "2  C-3  Zero-shot  Tell me about Sniff Mode.Generate 10 questions...   \n",
       "3  C-4  Zero-shot  Tell me about Sniff Mode.Generate 10 questions...   \n",
       "4  C-5  Zero-shot  Tell me about Sniff Mode.Generate 10 questions...   \n",
       "\n",
       "         Entity Relation Ontology  \\\n",
       "0  [Sniff Mode]       []       []   \n",
       "1  [Sniff Mode]       []       []   \n",
       "2  [Sniff Mode]       []       []   \n",
       "3  [Sniff Mode]       []       []   \n",
       "4  [Sniff Mode]       []       []   \n",
       "\n",
       "                                            Question  \\\n",
       "0                                What is sniff mode?   \n",
       "1                          Why is sniff mode useful?   \n",
       "2  What does the term 'sniff' refer to in sniff m...   \n",
       "3                   What is packet capture software?   \n",
       "4  What kind of network traffic is captured in sn...   \n",
       "\n",
       "                                              Answer  \n",
       "0  Sniff mode is a way of capturing network traff...  \n",
       "1  Sniff mode can be useful for network troublesh...  \n",
       "2  The term 'sniff' refers to the idea that the n...  \n",
       "3  Packet capture software allows the user to cap...  \n",
       "4  All network traffic, regardless of its destina...  "
      ]
     },
     "execution_count": 112,
     "metadata": {},
     "output_type": "execute_result"
    }
   ],
   "source": [
    "dfz.head()"
   ]
  },
  {
   "cell_type": "code",
   "execution_count": 111,
   "id": "d27f8521",
   "metadata": {},
   "outputs": [],
   "source": [
    "for index, row in dfp.iterrows():\n",
    "    if row['Prompt']in(dfz['Prompt']):\n",
    "        dfz['Context']=row['Context']"
   ]
  },
  {
   "cell_type": "code",
   "execution_count": 107,
   "id": "edf6cc50",
   "metadata": {},
   "outputs": [
    {
     "data": {
      "text/plain": [
       "1027"
      ]
     },
     "execution_count": 107,
     "metadata": {},
     "output_type": "execute_result"
    }
   ],
   "source": [
    "len(dfz)"
   ]
  },
  {
   "cell_type": "code",
   "execution_count": 113,
   "id": "b55e8b9b",
   "metadata": {},
   "outputs": [],
   "source": [
    "dfp.to_json('prompt_context.json', orient='records')"
   ]
  },
  {
   "cell_type": "code",
   "execution_count": null,
   "id": "c6dff424",
   "metadata": {},
   "outputs": [],
   "source": []
  }
 ],
 "metadata": {
  "kernelspec": {
   "display_name": "Python 3",
   "language": "python",
   "name": "python3"
  },
  "language_info": {
   "codemirror_mode": {
    "name": "ipython",
    "version": 3
   },
   "file_extension": ".py",
   "mimetype": "text/x-python",
   "name": "python",
   "nbconvert_exporter": "python",
   "pygments_lexer": "ipython3",
   "version": "3.8.10"
  }
 },
 "nbformat": 4,
 "nbformat_minor": 5
}
