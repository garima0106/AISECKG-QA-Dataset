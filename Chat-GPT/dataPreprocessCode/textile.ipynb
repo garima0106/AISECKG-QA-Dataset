{
 "cells": [
  {
   "cell_type": "code",
   "execution_count": 1,
   "id": "8157ba34",
   "metadata": {},
   "outputs": [],
   "source": [
    "import json\n",
    "import ast\n",
    "import os"
   ]
  },
  {
   "cell_type": "code",
   "execution_count": 46,
   "id": "f485a795",
   "metadata": {},
   "outputs": [
    {
     "data": {
      "text/plain": [
       "'/Users/garima/AISECKG-QA-Dataset/Chat-GPT/dataPreprocessCode'"
      ]
     },
     "execution_count": 46,
     "metadata": {},
     "output_type": "execute_result"
    }
   ],
   "source": [
    "dir=os.getcwd()\n",
    "dir"
   ]
  },
  {
   "cell_type": "code",
   "execution_count": 47,
   "id": "8ae269eb",
   "metadata": {},
   "outputs": [],
   "source": [
    "filename = '/Users/garima/AISECKG-QA-Dataset/Chat-GPT' + '/datadump/chat-gpt-responses-text'"
   ]
  },
  {
   "cell_type": "code",
   "execution_count": 51,
   "id": "051df363",
   "metadata": {},
   "outputs": [],
   "source": [
    "with open(filename, 'r') as fh:\n",
    "    lines= fh.readlines()  "
   ]
  },
  {
   "cell_type": "code",
   "execution_count": 50,
   "id": "c948ddca",
   "metadata": {},
   "outputs": [],
   "source": [
    "with open(filename, \"w\") as f:\n",
    "    for line in lines:\n",
    "        if line.startswith(\"Tell me about\")\n",
    "            line.strip()\n",
    "            f.write(line)"
   ]
  },
  {
   "cell_type": "code",
   "execution_count": null,
   "id": "c5b36d65",
   "metadata": {},
   "outputs": [],
   "source": []
  }
 ],
 "metadata": {
  "kernelspec": {
   "display_name": "Python 3",
   "language": "python",
   "name": "python3"
  },
  "language_info": {
   "codemirror_mode": {
    "name": "ipython",
    "version": 3
   },
   "file_extension": ".py",
   "mimetype": "text/x-python",
   "name": "python",
   "nbconvert_exporter": "python",
   "pygments_lexer": "ipython3",
   "version": "3.8.10"
  }
 },
 "nbformat": 4,
 "nbformat_minor": 5
}
