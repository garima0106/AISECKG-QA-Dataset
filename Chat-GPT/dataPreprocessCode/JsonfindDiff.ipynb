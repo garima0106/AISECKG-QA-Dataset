{
 "cells": [
  {
   "cell_type": "code",
   "execution_count": 6,
   "id": "b91f0c7e",
   "metadata": {},
   "outputs": [],
   "source": [
    "import json\n",
    "import ast\n",
    "import os"
   ]
  },
  {
   "cell_type": "code",
   "execution_count": 29,
   "id": "4c289eff",
   "metadata": {},
   "outputs": [
    {
     "data": {
      "text/plain": [
       "'/Users/garima/AISECKG-QA-Dataset/Chat-GPT/dataPreprocessCode'"
      ]
     },
     "execution_count": 29,
     "metadata": {},
     "output_type": "execute_result"
    }
   ],
   "source": [
    "dir=os.getcwd()\n",
    "dir"
   ]
  },
  {
   "cell_type": "code",
   "execution_count": 30,
   "id": "51470b04",
   "metadata": {},
   "outputs": [],
   "source": [
    "file1 = dir + '/prompt_context.json'"
   ]
  },
  {
   "cell_type": "code",
   "execution_count": null,
   "id": "f64bd0bc",
   "metadata": {},
   "outputs": [],
   "source": []
  },
  {
   "cell_type": "code",
   "execution_count": 26,
   "id": "23767223",
   "metadata": {},
   "outputs": [],
   "source": [
    "#file1 = '/Users/garima/AISECKG-QA-Dataset/Chat-GPT' + '/Jsonfiles/All_data_files/QA_with_context.json'"
   ]
  },
  {
   "cell_type": "code",
   "execution_count": 31,
   "id": "d0c3e4a0",
   "metadata": {},
   "outputs": [],
   "source": [
    "with open(file1, 'r') as fh:\n",
    "    jList= json.load(fh)"
   ]
  },
  {
   "cell_type": "code",
   "execution_count": 107,
   "id": "f55ef228",
   "metadata": {},
   "outputs": [],
   "source": [
    "Qlist=[]\n",
    "for item in jList:\n",
    " Qlist.append(item['QID'])"
   ]
  },
  {
   "cell_type": "code",
   "execution_count": 134,
   "id": "c5eb127d",
   "metadata": {},
   "outputs": [],
   "source": [
    "with open(file_val, 'r') as fv:\n",
    "    inputtxt=fv.read()"
   ]
  },
  {
   "cell_type": "code",
   "execution_count": 135,
   "id": "a4906c36",
   "metadata": {},
   "outputs": [],
   "source": [
    "lines = inputtxt.split('\\n')"
   ]
  },
  {
   "cell_type": "code",
   "execution_count": 136,
   "id": "94683bb3",
   "metadata": {},
   "outputs": [],
   "source": [
    "# add a delimiter ,\n",
    "with open(file_val, \"w\") as f:\n",
    "    for line in lines:\n",
    "        f.write(line + \",\\n\")"
   ]
  },
  {
   "cell_type": "code",
   "execution_count": 139,
   "id": "69ca74e6",
   "metadata": {},
   "outputs": [],
   "source": [
    "# open the validation file\n",
    "with open(file_val, 'r') as fh:\n",
    "    vList= json.load(fh)"
   ]
  },
  {
   "cell_type": "code",
   "execution_count": 115,
   "id": "ba7feb1a",
   "metadata": {},
   "outputs": [],
   "source": [
    "# get the QID of validation file\n",
    "vlist=[]\n",
    "for item in vList:\n",
    " vlist.append(item['QID'])"
   ]
  },
  {
   "cell_type": "code",
   "execution_count": 116,
   "id": "6d38de10",
   "metadata": {},
   "outputs": [],
   "source": [
    "# get the difference between 2 files\n",
    "def uncommon_elements(Qlist, vlist):\n",
    "    return [element for element in Qlist if element not in vlist]"
   ]
  },
  {
   "cell_type": "code",
   "execution_count": 117,
   "id": "cfdef731",
   "metadata": {},
   "outputs": [],
   "source": [
    "uList=uncommon_elements(Qlist, vlist)"
   ]
  },
  {
   "cell_type": "code",
   "execution_count": 118,
   "id": "bbbb7e96",
   "metadata": {},
   "outputs": [],
   "source": [
    "aList= []\n",
    "for item in jList:\n",
    "    if item['QID']in uList:\n",
    "        aList.append(item)"
   ]
  },
  {
   "cell_type": "code",
   "execution_count": 33,
   "id": "2f012d11",
   "metadata": {},
   "outputs": [],
   "source": [
    "out_file = open(\"/Users/garima/AISECKG-QA-Dataset/Chat-GPT//Jsonfiles/prompt_context.json\", \"w\")\n",
    "json.dump(jList, out_file, indent=2)\n",
    "out_file.close()"
   ]
  },
  {
   "cell_type": "code",
   "execution_count": null,
   "id": "1d33fa11",
   "metadata": {},
   "outputs": [],
   "source": []
  }
 ],
 "metadata": {
  "kernelspec": {
   "display_name": "Python 3",
   "language": "python",
   "name": "python3"
  },
  "language_info": {
   "codemirror_mode": {
    "name": "ipython",
    "version": 3
   },
   "file_extension": ".py",
   "mimetype": "text/x-python",
   "name": "python",
   "nbconvert_exporter": "python",
   "pygments_lexer": "ipython3",
   "version": "3.8.10"
  }
 },
 "nbformat": 4,
 "nbformat_minor": 5
}
