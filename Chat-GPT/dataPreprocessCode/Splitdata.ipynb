{
 "cells": [
  {
   "cell_type": "code",
   "execution_count": 1,
   "id": "ef871d87",
   "metadata": {},
   "outputs": [],
   "source": [
    "import json\n",
    "import ast\n",
    "import os\n",
    "import collections\n",
    "import itertools\n",
    "import pandas as pd\n",
    "from operator import itemgetter\n",
    "from itertools import groupby\n",
    "import random\n",
    "import numpy as np"
   ]
  },
  {
   "cell_type": "code",
   "execution_count": 2,
   "id": "6d63cf9f",
   "metadata": {},
   "outputs": [],
   "source": [
    "inputfile = '/Users/garima/AISECKG-QA-Dataset/Chat-GPT' + '/Jsonfiles/All_data_files/QA_Incontext.json'"
   ]
  },
  {
   "cell_type": "code",
   "execution_count": 3,
   "id": "58b099ec",
   "metadata": {},
   "outputs": [],
   "source": [
    "with open(inputfile, 'r') as fh:\n",
    "    jList= json.load(fh)"
   ]
  },
  {
   "cell_type": "code",
   "execution_count": 4,
   "id": "7680c88e",
   "metadata": {},
   "outputs": [],
   "source": [
    "df = pd.DataFrame(data=jList) "
   ]
  },
  {
   "cell_type": "code",
   "execution_count": 5,
   "id": "28cf7d67",
   "metadata": {},
   "outputs": [],
   "source": [
    "val=df.drop_duplicates(subset = 'Prompt')"
   ]
  },
  {
   "cell_type": "code",
   "execution_count": 6,
   "id": "d5a303eb",
   "metadata": {},
   "outputs": [
    {
     "data": {
      "text/plain": [
       "34"
      ]
     },
     "execution_count": 6,
     "metadata": {},
     "output_type": "execute_result"
    }
   ],
   "source": [
    "len(val)"
   ]
  },
  {
   "cell_type": "code",
   "execution_count": 7,
   "id": "509c5056",
   "metadata": {},
   "outputs": [],
   "source": [
    "cond = df['QID'].isin(val['QID'])\n",
    "df.drop(df[cond].index, inplace = True)"
   ]
  },
  {
   "cell_type": "code",
   "execution_count": 8,
   "id": "4bd5395a",
   "metadata": {},
   "outputs": [],
   "source": [
    "val2=df.drop_duplicates(subset = 'Prompt')"
   ]
  },
  {
   "cell_type": "code",
   "execution_count": 9,
   "id": "3d3e83c7",
   "metadata": {},
   "outputs": [
    {
     "data": {
      "text/plain": [
       "34"
      ]
     },
     "execution_count": 9,
     "metadata": {},
     "output_type": "execute_result"
    }
   ],
   "source": [
    "len(val2)"
   ]
  },
  {
   "cell_type": "code",
   "execution_count": 10,
   "id": "26b3bd73",
   "metadata": {},
   "outputs": [],
   "source": [
    "val = val.append(val2)"
   ]
  },
  {
   "cell_type": "code",
   "execution_count": 11,
   "id": "182a3cd9",
   "metadata": {},
   "outputs": [
    {
     "data": {
      "text/plain": [
       "68"
      ]
     },
     "execution_count": 11,
     "metadata": {},
     "output_type": "execute_result"
    }
   ],
   "source": [
    "len(val)"
   ]
  },
  {
   "cell_type": "code",
   "execution_count": 12,
   "id": "2ef53702",
   "metadata": {},
   "outputs": [],
   "source": [
    "val['sort'] = val['QID'].str.extract('(\\d+)', expand=False).astype(int)\n",
    "val.sort_values('sort',inplace=True, ascending=True)\n",
    "val = val.drop('sort', axis=1)"
   ]
  },
  {
   "cell_type": "code",
   "execution_count": 13,
   "id": "acc7b2f7",
   "metadata": {},
   "outputs": [],
   "source": [
    "val.to_json('QA_Incontext_validate.json', orient='records')"
   ]
  },
  {
   "cell_type": "code",
   "execution_count": 14,
   "id": "871ca70f",
   "metadata": {},
   "outputs": [],
   "source": [
    "cond = df['QID'].isin(val['QID'])\n",
    "df.drop(df[cond].index, inplace = True)"
   ]
  },
  {
   "cell_type": "code",
   "execution_count": 15,
   "id": "6884f3b8",
   "metadata": {},
   "outputs": [],
   "source": [
    "test=df.drop_duplicates(subset = 'Prompt')"
   ]
  },
  {
   "cell_type": "code",
   "execution_count": 16,
   "id": "509d9e36",
   "metadata": {},
   "outputs": [
    {
     "data": {
      "text/plain": [
       "34"
      ]
     },
     "execution_count": 16,
     "metadata": {},
     "output_type": "execute_result"
    }
   ],
   "source": [
    "len(test)"
   ]
  },
  {
   "cell_type": "code",
   "execution_count": 17,
   "id": "750014c9",
   "metadata": {},
   "outputs": [],
   "source": [
    "cond = df['QID'].isin(test['QID'])\n",
    "df.drop(df[cond].index, inplace = True)"
   ]
  },
  {
   "cell_type": "code",
   "execution_count": 18,
   "id": "042d9b8e",
   "metadata": {},
   "outputs": [],
   "source": [
    "test2=df.drop_duplicates(subset = 'Prompt')"
   ]
  },
  {
   "cell_type": "code",
   "execution_count": 19,
   "id": "15acca61",
   "metadata": {},
   "outputs": [],
   "source": [
    "test = test.append(test2)"
   ]
  },
  {
   "cell_type": "code",
   "execution_count": 20,
   "id": "77ac4365",
   "metadata": {},
   "outputs": [
    {
     "data": {
      "text/plain": [
       "68"
      ]
     },
     "execution_count": 20,
     "metadata": {},
     "output_type": "execute_result"
    }
   ],
   "source": [
    "len(test)"
   ]
  },
  {
   "cell_type": "code",
   "execution_count": 21,
   "id": "f8dafc40",
   "metadata": {},
   "outputs": [],
   "source": [
    "cond = df['QID'].isin(test['QID'])\n",
    "df.drop(df[cond].index, inplace = True)"
   ]
  },
  {
   "cell_type": "code",
   "execution_count": 22,
   "id": "dce47a92",
   "metadata": {},
   "outputs": [],
   "source": [
    "test3=df.drop_duplicates(subset = 'Prompt')"
   ]
  },
  {
   "cell_type": "code",
   "execution_count": 23,
   "id": "cd48790d",
   "metadata": {},
   "outputs": [],
   "source": [
    "test = test.append(test3)"
   ]
  },
  {
   "cell_type": "code",
   "execution_count": 24,
   "id": "8053bf9d",
   "metadata": {},
   "outputs": [],
   "source": [
    "cond = df['QID'].isin(test['QID'])\n",
    "df.drop(df[cond].index, inplace = True)"
   ]
  },
  {
   "cell_type": "code",
   "execution_count": 25,
   "id": "73bbe6df",
   "metadata": {},
   "outputs": [],
   "source": [
    "test.to_json('QA_Incontext_test.json', orient='records')"
   ]
  },
  {
   "cell_type": "code",
   "execution_count": 26,
   "id": "dcd2d23b",
   "metadata": {},
   "outputs": [
    {
     "data": {
      "text/plain": [
       "163"
      ]
     },
     "execution_count": 26,
     "metadata": {},
     "output_type": "execute_result"
    }
   ],
   "source": [
    "len(df)"
   ]
  },
  {
   "cell_type": "code",
   "execution_count": 27,
   "id": "6b92caa2",
   "metadata": {},
   "outputs": [],
   "source": [
    "df.to_json('QA_Incontext_train.json', orient='records')"
   ]
  },
  {
   "cell_type": "code",
   "execution_count": null,
   "id": "bac97279",
   "metadata": {},
   "outputs": [],
   "source": []
  }
 ],
 "metadata": {
  "kernelspec": {
   "display_name": "Python 3",
   "language": "python",
   "name": "python3"
  },
  "language_info": {
   "codemirror_mode": {
    "name": "ipython",
    "version": 3
   },
   "file_extension": ".py",
   "mimetype": "text/x-python",
   "name": "python",
   "nbconvert_exporter": "python",
   "pygments_lexer": "ipython3",
   "version": "3.8.10"
  }
 },
 "nbformat": 4,
 "nbformat_minor": 5
}
