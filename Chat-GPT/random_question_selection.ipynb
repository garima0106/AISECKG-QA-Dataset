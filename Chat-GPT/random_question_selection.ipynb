{
 "cells": [
  {
   "cell_type": "code",
   "execution_count": 3,
   "id": "9da2d4ac",
   "metadata": {},
   "outputs": [],
   "source": [
    "import sys, os, re\n",
    "import json\n",
    "import numpy as np\n",
    "import math"
   ]
  },
  {
   "cell_type": "code",
   "execution_count": 6,
   "id": "f3f24aea",
   "metadata": {},
   "outputs": [],
   "source": [
    "with open(\"Jsonfiles/QA_ontology.json\") as readfile:\n",
    "  records = json.load(readfile)\n"
   ]
  },
  {
   "cell_type": "code",
   "execution_count": null,
   "id": "62a11428",
   "metadata": {},
   "outputs": [],
   "source": [
    " \"QID\": \"A-1\",\n",
    "        \"Method\": \"Ontology-based\",\n",
    "        \"Prompt\": \"Use JSON format to generate 10 question with answer on situation when sniff mode can detect an attack.\",\n",
    "        \"Entity\": [\n",
    "            \"sniff mode\",\n",
    "            \"attack\"\n",
    "        ],\n",
    "        \"Relation\": [\n",
    "            \"can_detect\"\n",
    "        ],\n",
    "        \"Ontology\": [\n",
    "            [\n",
    "                \"feature\",\n",
    "                \"can_detect\",\n",
    "                \"attack\"\n",
    "            ]\n",
    "        ],\n",
    "        \"Question\": \"What is sniff mode?\",\n",
    "        \"Answer\": \"Sniff mode is a network monitoring mode that allows packets to be captured and analyzed in real-time.\"\n",
    "    },"
   ]
  },
  {
   "cell_type": "code",
   "execution_count": 4,
   "id": "3f7e0dce",
   "metadata": {},
   "outputs": [],
   "source": [
    "import json\n",
    "from random import randint\n",
    "\n",
    "\n",
    "def random_question(file):\n",
    "    with open(file) as fp:\n",
    "        records = json.load(fp)\n",
    "        count = len(records)\n",
    "        sample_ratio = 0.10\n",
    "        sample_count = math.ceil(count * sample_ratio)\n",
    "        \n",
    "#         random_index = randint(0, len(questions)-1)\n",
    "#         return questions[random_index]\n",
    "        sample_indexes = np.random.choice(\n",
    "          count,\n",
    "          sample_count\n",
    "            )\n",
    "        sample_records = []\n",
    "        for sample_index in sample_indexes:\n",
    "          sample_record = records[sample_index]\n",
    "          sample_records.append(sample_record)\n",
    "\n",
    "        assert len(sample_records) == sample_count\n",
    "\n",
    "        with open(\"Jsonfiles/QA_icl_validate.json\", \"w\") as f:\n",
    "          for record in sample_records:\n",
    "            f.write(json.dumps(record) + \"\\n\")\n",
    "\n",
    "        print(\"Sampled {} records from {} original records.\".format(\n",
    "          sample_count,\n",
    "          count\n",
    "        ))\n",
    "    \n"
   ]
  },
  {
   "cell_type": "code",
   "execution_count": null,
   "id": "c8ea76ac",
   "metadata": {},
   "outputs": [],
   "source": [
    "random_question('Jsonfiles/QA_ontology.json')"
   ]
  },
  {
   "cell_type": "code",
   "execution_count": 5,
   "id": "76cfef35",
   "metadata": {},
   "outputs": [
    {
     "name": "stdout",
     "output_type": "stream",
     "text": [
      "Sampled 31 records from 308 original records.\n"
     ]
    }
   ],
   "source": [
    "random_question('Jsonfiles/QA_Incontext.json')"
   ]
  },
  {
   "cell_type": "code",
   "execution_count": null,
   "id": "1dc946c8",
   "metadata": {},
   "outputs": [],
   "source": []
  }
 ],
 "metadata": {
  "kernelspec": {
   "display_name": "Python 3",
   "language": "python",
   "name": "python3"
  },
  "language_info": {
   "codemirror_mode": {
    "name": "ipython",
    "version": 3
   },
   "file_extension": ".py",
   "mimetype": "text/x-python",
   "name": "python",
   "nbconvert_exporter": "python",
   "pygments_lexer": "ipython3",
   "version": "3.8.10"
  }
 },
 "nbformat": 4,
 "nbformat_minor": 5
}
