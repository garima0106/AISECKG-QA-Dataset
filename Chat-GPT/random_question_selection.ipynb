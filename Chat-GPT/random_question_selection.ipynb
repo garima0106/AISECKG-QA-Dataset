{
 "cells": [
  {
   "cell_type": "code",
   "execution_count": 1,
   "id": "50869382",
   "metadata": {},
   "outputs": [],
   "source": [
    "import sys, os, re\n",
    "import json\n",
    "import numpy as np\n",
    "import math"
   ]
  },
  {
   "cell_type": "code",
   "execution_count": 6,
   "id": "493996d2",
   "metadata": {},
   "outputs": [],
   "source": [
    "with open(\"Jsonfiles/QA_ontology.json\") as readfile:\n",
    "  records = json.load(readfile)\n"
   ]
  },
  {
   "cell_type": "code",
   "execution_count": null,
   "id": "3ad5bc6e",
   "metadata": {},
   "outputs": [],
   "source": [
    " \"QID\": \"A-1\",\n",
    "        \"Method\": \"Ontology-based\",\n",
    "        \"Prompt\": \"Use JSON format to generate 10 question with answer on situation when sniff mode can detect an attack.\",\n",
    "        \"Entity\": [\n",
    "            \"sniff mode\",\n",
    "            \"attack\"\n",
    "        ],\n",
    "        \"Relation\": [\n",
    "            \"can_detect\"\n",
    "        ],\n",
    "        \"Ontology\": [\n",
    "            [\n",
    "                \"feature\",\n",
    "                \"can_detect\",\n",
    "                \"attack\"\n",
    "            ]\n",
    "        ],\n",
    "        \"Question\": \"What is sniff mode?\",\n",
    "        \"Answer\": \"Sniff mode is a network monitoring mode that allows packets to be captured and analyzed in real-time.\"\n",
    "    },"
   ]
  },
  {
   "cell_type": "code",
   "execution_count": 13,
   "id": "fb905ea4",
   "metadata": {},
   "outputs": [
    {
     "name": "stdout",
     "output_type": "stream",
     "text": [
      "Sampled 206 records from 2060 original records.\n",
      "None\n"
     ]
    }
   ],
   "source": [
    "import json\n",
    "from random import randint\n",
    "\n",
    "\n",
    "def random_question():\n",
    "    with open('Jsonfiles/QA_ontology.json') as fp:\n",
    "        records = json.load(fp)\n",
    "        count = len(records)\n",
    "        sample_ratio = 0.10\n",
    "        sample_count = math.ceil(count * sample_ratio)\n",
    "        \n",
    "#         random_index = randint(0, len(questions)-1)\n",
    "#         return questions[random_index]\n",
    "        sample_indexes = np.random.choice(\n",
    "          count,\n",
    "          sample_count\n",
    "            )\n",
    "        sample_records = []\n",
    "        for sample_index in sample_indexes:\n",
    "          sample_record = records[sample_index]\n",
    "          sample_records.append(sample_record)\n",
    "\n",
    "        assert len(sample_records) == sample_count\n",
    "\n",
    "#         with open(\"Jsonfiles/QA_ontology_validatte.json\", \"w\") as f:\n",
    "#           for record in sample_records:\n",
    "#             f.write(json.dumps(record) + \"\\n\")\n",
    "\n",
    "        print(\"Sampled {} records from {} original records.\".format(\n",
    "          sample_count,\n",
    "          count\n",
    "        ))\n",
    "    \n",
    "    \n",
    "    \n",
    "print(random_question())"
   ]
  },
  {
   "cell_type": "code",
   "execution_count": null,
   "id": "9c36dfd3",
   "metadata": {},
   "outputs": [],
   "source": []
  }
 ],
 "metadata": {
  "kernelspec": {
   "display_name": "Python 3",
   "language": "python",
   "name": "python3"
  },
  "language_info": {
   "codemirror_mode": {
    "name": "ipython",
    "version": 3
   },
   "file_extension": ".py",
   "mimetype": "text/x-python",
   "name": "python",
   "nbconvert_exporter": "python",
   "pygments_lexer": "ipython3",
   "version": "3.8.10"
  }
 },
 "nbformat": 4,
 "nbformat_minor": 5
}
